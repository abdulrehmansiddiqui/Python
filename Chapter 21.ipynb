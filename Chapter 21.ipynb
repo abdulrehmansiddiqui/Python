{
 "cells": [
  {
   "cell_type": "code",
   "execution_count": 2,
   "metadata": {},
   "outputs": [
    {
     "ename": "IndentationError",
     "evalue": "unindent does not match any outer indentation level (<ipython-input-2-4a5c7ca59650>, line 7)",
     "output_type": "error",
     "traceback": [
      "\u001b[1;36m  File \u001b[1;32m\"<ipython-input-2-4a5c7ca59650>\"\u001b[1;36m, line \u001b[1;32m7\u001b[0m\n\u001b[1;33m    elif city_to_check == cleanest_cities[1]:\u001b[0m\n\u001b[1;37m                                             ^\u001b[0m\n\u001b[1;31mIndentationError\u001b[0m\u001b[1;31m:\u001b[0m unindent does not match any outer indentation level\n"
     ]
    }
   ],
   "source": [
    "city_to_check = \"Tucson\"\n",
    "\n",
    "cleanest_cities = [\"Cheyenne\", \"Santa\", \"Tucson\", \"Great Falls\", \"Honolulu\"]\n",
    "\n",
    "if city_to_check == cleanest_cities[0]:\n",
    " print(\"It's one of the cleanest cities\")\n",
    " elif city_to_check == cleanest_cities[1]:\n",
    " print(\"It's one of the cleanest cities\")\n",
    " elif city_to_check == cleanest_cities[2]:\n",
    " print(\"It's one of the cleanest cities\")\n",
    " elif city_to_check == cleanest_cities[3]:\n",
    " print(\"It's one of the cleanest cities\")\n",
    " elif city_to_check == cleanest_cities[4]:\n",
    " print(\"It's one of the cleanest cities\")\n"
   ]
  },
  {
   "cell_type": "code",
   "execution_count": 3,
   "metadata": {},
   "outputs": [
    {
     "ename": "IndentationError",
     "evalue": "expected an indented block (<ipython-input-3-bc253357e3d0>, line 3)",
     "output_type": "error",
     "traceback": [
      "\u001b[1;36m  File \u001b[1;32m\"<ipython-input-3-bc253357e3d0>\"\u001b[1;36m, line \u001b[1;32m3\u001b[0m\n\u001b[1;33m    print(\"It's one of the cleanest cities\")\u001b[0m\n\u001b[1;37m        ^\u001b[0m\n\u001b[1;31mIndentationError\u001b[0m\u001b[1;31m:\u001b[0m expected an indented block\n"
     ]
    }
   ],
   "source": [
    "for a_clean_city in cleanest_cities:\n",
    " if city_to_check == a_clean_city:\n",
    " print(\"It's one of the cleanest cities\")\n",
    "\n",
    "if x == z:\n",
    " print(\"It's one of the cleanest cities\")\n"
   ]
  },
  {
   "cell_type": "code",
   "execution_count": 5,
   "metadata": {},
   "outputs": [
    {
     "ename": "IndentationError",
     "evalue": "expected an indented block (<ipython-input-5-0855f8118603>, line 3)",
     "output_type": "error",
     "traceback": [
      "\u001b[1;36m  File \u001b[1;32m\"<ipython-input-5-0855f8118603>\"\u001b[1;36m, line \u001b[1;32m3\u001b[0m\n\u001b[1;33m    print(\"It's one of the cleanest cities\")\u001b[0m\n\u001b[1;37m        ^\u001b[0m\n\u001b[1;31mIndentationError\u001b[0m\u001b[1;31m:\u001b[0m expected an indented block\n"
     ]
    }
   ],
   "source": [
    "for a_clean_city in cleanest_cities:\n",
    " if city_to_check == a_clean_city:\n",
    " print(\"It's one of the cleanest cities\")\n",
    "\n",
    "for a_clean_city in cleanest_cities:\n",
    " if city_to_check == a_clean_city:\n",
    " print(\"It's one of the cleanest cities\")\n",
    " break\n"
   ]
  },
  {
   "cell_type": "code",
   "execution_count": null,
   "metadata": {},
   "outputs": [],
   "source": []
  }
 ],
 "metadata": {
  "kernelspec": {
   "display_name": "Python 3",
   "language": "python",
   "name": "python3"
  },
  "language_info": {
   "codemirror_mode": {
    "name": "ipython",
    "version": 3
   },
   "file_extension": ".py",
   "mimetype": "text/x-python",
   "name": "python",
   "nbconvert_exporter": "python",
   "pygments_lexer": "ipython3",
   "version": "3.6.5"
  }
 },
 "nbformat": 4,
 "nbformat_minor": 2
}
