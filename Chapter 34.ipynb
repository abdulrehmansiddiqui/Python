{
 "cells": [
  {
   "cell_type": "code",
   "execution_count": 3,
   "metadata": {},
   "outputs": [],
   "source": [
    "customer_29876 = { \"first name\": \"David\", \"last name\": \"Elliott\", \"address\": \"4803 Wellesley St.\",}\n",
    "\n",
    "customer_ids = [101, 102, 103]"
   ]
  },
  {
   "cell_type": "code",
   "execution_count": 4,
   "metadata": {},
   "outputs": [],
   "source": [
    "customers = [\n",
    "{\n",
    " \"customer id\": 0, \"first name\":\"John\", \"last name\": \"Ogden\", \"address\": \"301 Arbor Rd.\", }, { \"customer id\": 1, \"first name\":\"Ann\", \"last name\": \"Sattermyer\", \"address\": \"PO Box 1145\", },{ \"customer id\": 2,\"first name\":\"Jill\", \"last name\": \"Somers\", \"address\": \"3 Main St.\", },\n",
    " ]\n"
   ]
  },
  {
   "cell_type": "code",
   "execution_count": null,
   "metadata": {},
   "outputs": [],
   "source": []
  }
 ],
 "metadata": {
  "kernelspec": {
   "display_name": "Python 3",
   "language": "python",
   "name": "python3"
  },
  "language_info": {
   "codemirror_mode": {
    "name": "ipython",
    "version": 3
   },
   "file_extension": ".py",
   "mimetype": "text/x-python",
   "name": "python",
   "nbconvert_exporter": "python",
   "pygments_lexer": "ipython3",
   "version": "3.6.5"
  }
 },
 "nbformat": 4,
 "nbformat_minor": 2
}
