{
 "cells": [
  {
   "cell_type": "code",
   "execution_count": 1,
   "metadata": {},
   "outputs": [],
   "source": [
    "customer_29876 = { \"first name\": \"David\", \"last name\": \"Elliott\", \"address\": \"4803 Wellesley St.\", \"discounts\": [\"standard\", \"volume\", \"loyalty\"],\n",
    " }\n"
   ]
  },
  {
   "cell_type": "code",
   "execution_count": 8,
   "metadata": {},
   "outputs": [],
   "source": [
    "if \"brother-in-law\" in customer_29876[\"discounts\"]:discount_amount = .30\n",
    "elif \"loyalty\" in customer_29876[\"discounts\"]:discount_amount = .15\n",
    "elif \"volume\" in customer_29876[\"discounts\"]:discount_amount = .10\n",
    "elif \"standard\" in customer_29876[\"discounts\"]:discount_amount = .05"
   ]
  },
  {
   "cell_type": "code",
   "execution_count": 12,
   "metadata": {},
   "outputs": [],
   "source": [
    " customers = [{\"customer id\": 0,\"first name\":\"John\",\"last name\": \"Ogden\",\"address\": \"301 Arbor Rd.\",},{ \"customer id\": 1, \"first name\":\"Ann\", \"last name\": \"Sattermyer\", \"address\": \"PO Box 1145\", }, {\"customer id\": 2,\"first name\":\"Jill\",\"last name\": \"Somers\",\"address\": \"3 Main St.\",},]\n"
   ]
  },
  {
   "cell_type": "code",
   "execution_count": 18,
   "metadata": {},
   "outputs": [],
   "source": [
    "customers = {\n",
    "0: {\n",
    "\"first name\":\"John\",\n",
    "\"last name\": \"Ogden\",\n",
    "\"address\": \"301 Arbor Rd.\",\n",
    "},\n",
    "1: {\n",
    "\"first name\":\"Ann\",\n",
    "\"last name\": \"Sattermyer\",\n",
    "\"address\": \"PO Box 1145\",\n",
    "},\n",
    "2: {\n",
    "\"first name\":\"Jill\",\n",
    "\"last name\": \"Somers\",\n",
    "\"address\": \"3 Main St.\",\n",
    "},\n",
    "}"
   ]
  },
  {
   "cell_type": "code",
   "execution_count": 21,
   "metadata": {},
   "outputs": [
    {
     "name": "stdout",
     "output_type": "stream",
     "text": [
      "{'first name': 'Ann', 'last name': 'Sattermyer', 'address': 'PO Box 1145'}\n"
     ]
    }
   ],
   "source": [
    "print(customers[1])"
   ]
  },
  {
   "cell_type": "code",
   "execution_count": 22,
   "metadata": {},
   "outputs": [
    {
     "name": "stdout",
     "output_type": "stream",
     "text": [
      "3 Main St.\n"
     ]
    }
   ],
   "source": [
    "print(customers[2][\"address\"])"
   ]
  },
  {
   "cell_type": "code",
   "execution_count": null,
   "metadata": {},
   "outputs": [],
   "source": []
  }
 ],
 "metadata": {
  "kernelspec": {
   "display_name": "Python 3",
   "language": "python",
   "name": "python3"
  },
  "language_info": {
   "codemirror_mode": {
    "name": "ipython",
    "version": 3
   },
   "file_extension": ".py",
   "mimetype": "text/x-python",
   "name": "python",
   "nbconvert_exporter": "python",
   "pygments_lexer": "ipython3",
   "version": "3.6.5"
  }
 },
 "nbformat": 4,
 "nbformat_minor": 2
}
