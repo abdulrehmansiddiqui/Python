{
 "cells": [
  {
   "cell_type": "code",
   "execution_count": 2,
   "metadata": {},
   "outputs": [
    {
     "ename": "NameError",
     "evalue": "name 'customer_29876' is not defined",
     "output_type": "error",
     "traceback": [
      "\u001b[1;31m---------------------------------------------------------------------------\u001b[0m",
      "\u001b[1;31mNameError\u001b[0m                                 Traceback (most recent call last)",
      "\u001b[1;32m<ipython-input-2-56d9767b7c0b>\u001b[0m in \u001b[0;36m<module>\u001b[1;34m()\u001b[0m\n\u001b[1;32m----> 1\u001b[1;33m \u001b[0mcustomer_first_name\u001b[0m \u001b[1;33m=\u001b[0m \u001b[0mcustomer_29876\u001b[0m\u001b[1;33m[\u001b[0m\u001b[1;34m\"first name\"\u001b[0m\u001b[1;33m]\u001b[0m\u001b[1;33m\u001b[0m\u001b[0m\n\u001b[0m\u001b[0;32m      2\u001b[0m customers = [\n\u001b[0;32m      3\u001b[0m {\n\u001b[0;32m      4\u001b[0m \"customer id\": 0,\"first name\":\"John\",\"last name\": \"Ogden\",\"address\": \"301 Arbor Rd.\",},\n\u001b[0;32m      5\u001b[0m {\n",
      "\u001b[1;31mNameError\u001b[0m: name 'customer_29876' is not defined"
     ]
    }
   ],
   "source": [
    "customer_first_name = customer_29876[\"first name\"]\n",
    "customers = [\n",
    "{\n",
    "\"customer id\": 0,\"first name\":\"John\",\"last name\": \"Ogden\",\"address\": \"301 Arbor Rd.\",},\n",
    "{\n",
    "\"customer id\": 1,\"first name\":\"Ann\",\"last name\": \"Sattermyer\",\"address\": \"PO Box 1145\",},\n",
    "{\n",
    "\"customer id\": 2,\"first name\":\"Jill\",\"last name\": \"Somers\",\"address\": \"3 Main St.\",},\n",
    "]\n",
    "\n"
   ]
  },
  {
   "cell_type": "code",
   "execution_count": 3,
   "metadata": {},
   "outputs": [
    {
     "ename": "SyntaxError",
     "evalue": "invalid syntax (<ipython-input-3-e2b83a191923>, line 2)",
     "output_type": "error",
     "traceback": [
      "\u001b[1;36m  File \u001b[1;32m\"<ipython-input-3-e2b83a191923>\"\u001b[1;36m, line \u001b[1;32m2\u001b[0m\n\u001b[1;33m    2 customer_address =\u001b[0m\n\u001b[1;37m                     ^\u001b[0m\n\u001b[1;31mSyntaxError\u001b[0m\u001b[1;31m:\u001b[0m invalid syntax\n"
     ]
    }
   ],
   "source": [
    "dictionary_to_look_in = customers[2870]\n",
    "2 customer_address =\n",
    "dictionary_to_look_in[\"address\"]\n",
    "\n",
    "dictionary_to_look_in = customers[2870]\n",
    "\n",
    "customer_address =\n",
    "dictionary_to_look_in[\"address\"]"
   ]
  },
  {
   "cell_type": "code",
   "execution_count": null,
   "metadata": {},
   "outputs": [],
   "source": []
  }
 ],
 "metadata": {
  "kernelspec": {
   "display_name": "Python 3",
   "language": "python",
   "name": "python3"
  },
  "language_info": {
   "codemirror_mode": {
    "name": "ipython",
    "version": 3
   },
   "file_extension": ".py",
   "mimetype": "text/x-python",
   "name": "python",
   "nbconvert_exporter": "python",
   "pygments_lexer": "ipython3",
   "version": "3.6.5"
  }
 },
 "nbformat": 4,
 "nbformat_minor": 2
}
