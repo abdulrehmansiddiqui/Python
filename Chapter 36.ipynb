{
 "cells": [
  {
   "cell_type": "code",
   "execution_count": 3,
   "metadata": {},
   "outputs": [
    {
     "name": "stdout",
     "output_type": "stream",
     "text": [
      "Hello, World!\n",
      "Abdul Rehman Siddiqui \n"
     ]
    }
   ],
   "source": [
    "new_customer_id = len(customers)\n",
    "\n",
    "new_dictionary = {\n",
    "\"customer id\": new_customer_id,\n",
    "\"first name\": new_first_name,\n",
    "\"last name\": new_last_name,\n",
    "\"address\": new_address,\n",
    "}\n",
    "\n",
    "customers.append(new_dictionary)"
   ]
  },
  {
   "cell_type": "code",
   "execution_count": null,
   "metadata": {},
   "outputs": [],
   "source": []
  }
 ],
 "metadata": {
  "kernelspec": {
   "display_name": "Python 3",
   "language": "python",
   "name": "python3"
  },
  "language_info": {
   "codemirror_mode": {
    "name": "ipython",
    "version": 3
   },
   "file_extension": ".py",
   "mimetype": "text/x-python",
   "name": "python",
   "nbconvert_exporter": "python",
   "pygments_lexer": "ipython3",
   "version": "3.6.5"
  }
 },
 "nbformat": 4,
 "nbformat_minor": 2
}
