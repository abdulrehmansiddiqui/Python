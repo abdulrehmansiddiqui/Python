{
 "cells": [
  {
   "cell_type": "code",
   "execution_count": 2,
   "metadata": {},
   "outputs": [],
   "source": [
    "def say_something():\n",
    " what_to_say = \"Hi\"\n",
    " print(what_to_say)\n",
    "\n",
    "def say_something():\n",
    " what_to_say = \"Hi\"\n",
    " now_say_it()"
   ]
  },
  {
   "cell_type": "code",
   "execution_count": 3,
   "metadata": {},
   "outputs": [],
   "source": [
    "def now_say_it():\n",
    " print(what_to_say)\n"
   ]
  },
  {
   "cell_type": "code",
   "execution_count": 4,
   "metadata": {},
   "outputs": [],
   "source": [
    "def say_something():\n",
    " what_to_say = \"Hi\"\n",
    " now_say_it(what_to_say)"
   ]
  },
  {
   "cell_type": "code",
   "execution_count": null,
   "metadata": {},
   "outputs": [],
   "source": [
    "cleanest_cities = [\"Cheyenne\", \"Santa Fe\", \"Tucson\",\"Great Falls\", \"Honolulu\"]\n",
    "\n",
    "city_to_check = input(\"Enter the name of a city: \")\n",
    "\n",
    "\n",
    "for a_clean_city in cleanest_cities:\n",
    "    if city_to_check == a_clean_city:\n",
    "        print(\"It's one of the cleanest cities\")\n",
    "        break"
   ]
  },
  {
   "cell_type": "code",
   "execution_count": null,
   "metadata": {},
   "outputs": [],
   "source": [
    "user_input = \"\"\n",
    "while user_input != \"q\":\n",
    "    user_input = input(\"Enter a city, or q to quit:\")\n",
    "        if user_input != \"q\":\n",
    "            for a_clean_city in cleanest_cities:\n",
    "                if user_input == a_clean_city:\n",
    "                    print(\"It's one of the cleanest cities\")\n",
    "                    break\n"
   ]
  },
  {
   "cell_type": "code",
   "execution_count": null,
   "metadata": {},
   "outputs": [],
   "source": [
    "class Patient():\n",
    " def __init__(self, last_name):\n",
    "    \n",
    "class Patient():\n",
    " def __init__(self, last_name):\n",
    "    self.whatever_dude = last_name\n",
    "    self.last_name = last_name\n",
    "    self.first_name = first_name\n",
    "    self.age = age\n",
    "    def say_if_minor(self):\n",
    "     if self.age < 21:\n",
    "     print(\"This patient is a minor\")\n",
    "    def change_last_name(self, new_last_name):\n",
    "     self.last_name = new_last_name\n",
    "\n",
    "\n",
    "    \n",
    "    pid4343 = Patient(\"Taleb\", \"Sue\", 61)\n",
    "    pid4344 = Patient(\"Anand\", \"Punya\", 29)\n",
    "    pid4345 = Patient(\"Oppenheimer\", \"Douglas\", 15)\n",
    "    pid4346 = Patient(\"Lin\", \"Lilly\", 48)\n",
    "    pid12902 = Patient(\"Nilsson\", \"Rhonda\", 33)\n",
    "\n",
    "    age_of_patient = pid4343.age\n",
    "\n",
    "    print(pid4343.age)"
   ]
  },
  {
   "cell_type": "code",
   "execution_count": null,
   "metadata": {},
   "outputs": [],
   "source": [
    "def say_if_minor(patient_first_name, patient_last_name, patient_age):\n",
    " if patient_age < 21:\n",
    " print(patient_first_name + \" \" + patient_last_name + \" is a minor\")\n"
   ]
  },
  {
   "cell_type": "code",
   "execution_count": null,
   "metadata": {},
   "outputs": [],
   "source": [
    "say_if_minor(pid4343.first_name, pid4343.last_name, pid4343.age)\n",
    "pid4343.say_if_minor()\n",
    "\n",
    "pid4343.say_if_minor(\"April\", insured=True)\n"
   ]
  },
  {
   "cell_type": "code",
   "execution_count": null,
   "metadata": {},
   "outputs": [],
   "source": [
    "def say_if_minor(patient_first_name, patient_last_name, patient_age):\n",
    " if patient_age < 21:\n",
    " print(patient_first_name + \" \" + patient_last_name + \" is a minor\")"
   ]
  },
  {
   "cell_type": "code",
   "execution_count": null,
   "metadata": {},
   "outputs": [],
   "source": [
    "def say_if_minor(pid4343.first_name,\n",
    "pid4343.last_name, pid4343.age)\n",
    "\n",
    "def change_last_name(self, new_last_name):\n",
    " self.last_name = new_last_name\n"
   ]
  },
  {
   "cell_type": "code",
   "execution_count": null,
   "metadata": {},
   "outputs": [],
   "source": [
    "\n",
    "pid4343.change_last_name(\"Ortega\")"
   ]
  },
  {
   "cell_type": "code",
   "execution_count": null,
   "metadata": {},
   "outputs": [],
   "source": []
  }
 ],
 "metadata": {
  "kernelspec": {
   "display_name": "Python 3",
   "language": "python",
   "name": "python3"
  },
  "language_info": {
   "codemirror_mode": {
    "name": "ipython",
    "version": 3
   },
   "file_extension": ".py",
   "mimetype": "text/x-python",
   "name": "python",
   "nbconvert_exporter": "python",
   "pygments_lexer": "ipython3",
   "version": "3.6.5"
  }
 },
 "nbformat": 4,
 "nbformat_minor": 2
}
